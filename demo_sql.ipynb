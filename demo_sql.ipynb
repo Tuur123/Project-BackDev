{
    "metadata": {
        "kernelspec": {
            "name": "SQL",
            "display_name": "SQL",
            "language": "sql"
        },
        "language_info": {
            "name": "sql",
            "version": ""
        }
    },
    "nbformat_minor": 2,
    "nbformat": 4,
    "cells": [
        {
            "cell_type": "code",
            "source": [
                "DROP DATABASE Beers"
            ],
            "metadata": {
                "azdata_cell_guid": "04cbe906-13f9-4bce-aa61-ad1d68637bf8"
            },
            "outputs": [
                {
                    "output_type": "error",
                    "evalue": "Msg 3702, Level 16, State 3, Line 1\r\nCannot drop database \"Beers\" because it is currently in use.",
                    "ename": "",
                    "traceback": []
                },
                {
                    "output_type": "display_data",
                    "data": {
                        "text/html": "Total execution time: 00:00:00.002"
                    },
                    "metadata": {}
                }
            ],
            "execution_count": 34
        },
        {
            "cell_type": "code",
            "source": [
                "USE Beers"
            ],
            "metadata": {
                "azdata_cell_guid": "7dc35507-80b3-4fd0-a733-bb9f179bc6f9"
            },
            "outputs": [
                {
                    "output_type": "display_data",
                    "data": {
                        "text/html": "Commands completed successfully."
                    },
                    "metadata": {}
                },
                {
                    "output_type": "display_data",
                    "data": {
                        "text/html": "Total execution time: 00:00:00.002"
                    },
                    "metadata": {}
                }
            ],
            "execution_count": 39
        },
        {
            "cell_type": "code",
            "source": [
                "SELECT * FROM Businessbeer"
            ],
            "metadata": {
                "azdata_cell_guid": "cf876a4d-3ba0-4169-9e54-4bc5634f53e0"
            },
            "outputs": [
                {
                    "output_type": "display_data",
                    "data": {
                        "text/html": "(9 rows affected)"
                    },
                    "metadata": {}
                },
                {
                    "output_type": "display_data",
                    "data": {
                        "text/html": "Total execution time: 00:00:00.010"
                    },
                    "metadata": {}
                },
                {
                    "output_type": "execute_result",
                    "metadata": {},
                    "execution_count": 40,
                    "data": {
                        "application/vnd.dataresource+json": {
                            "schema": {
                                "fields": [
                                    {
                                        "name": "BeerId"
                                    },
                                    {
                                        "name": "BusinessId"
                                    }
                                ]
                            },
                            "data": [
                                {
                                    "0": "1d31353b-c63d-436a-9327-121ed181eb58",
                                    "1": "e75faac4-0546-4fa2-a33c-4f40bb6e70a5"
                                },
                                {
                                    "0": "0d9083f5-defc-423a-b509-d883b70903ce",
                                    "1": "e75faac4-0546-4fa2-a33c-4f40bb6e70a5"
                                },
                                {
                                    "0": "1d31353b-c63d-436a-9327-121ed181eb58",
                                    "1": "2a75e554-72f8-4508-96f8-839509576321"
                                },
                                {
                                    "0": "0d9083f5-defc-423a-b509-d883b70903ce",
                                    "1": "2a75e554-72f8-4508-96f8-839509576321"
                                },
                                {
                                    "0": "a7625612-b735-4c20-9928-ec38cbb1a70d",
                                    "1": "2a75e554-72f8-4508-96f8-839509576321"
                                },
                                {
                                    "0": "1d31353b-c63d-436a-9327-121ed181eb58",
                                    "1": "6f5f5e28-76ef-4bcf-b32d-ce83ad07476d"
                                },
                                {
                                    "0": "0d9083f5-defc-423a-b509-d883b70903ce",
                                    "1": "6f5f5e28-76ef-4bcf-b32d-ce83ad07476d"
                                },
                                {
                                    "0": "a7625612-b735-4c20-9928-ec38cbb1a70d",
                                    "1": "6f5f5e28-76ef-4bcf-b32d-ce83ad07476d"
                                },
                                {
                                    "0": "57b1c716-c485-445e-bd41-f6fb305aae86",
                                    "1": "6f5f5e28-76ef-4bcf-b32d-ce83ad07476d"
                                }
                            ]
                        },
                        "text/html": [
                            "<table>",
                            "<tr><th>BeerId</th><th>BusinessId</th></tr>",
                            "<tr><td>1d31353b-c63d-436a-9327-121ed181eb58</td><td>e75faac4-0546-4fa2-a33c-4f40bb6e70a5</td></tr>",
                            "<tr><td>0d9083f5-defc-423a-b509-d883b70903ce</td><td>e75faac4-0546-4fa2-a33c-4f40bb6e70a5</td></tr>",
                            "<tr><td>1d31353b-c63d-436a-9327-121ed181eb58</td><td>2a75e554-72f8-4508-96f8-839509576321</td></tr>",
                            "<tr><td>0d9083f5-defc-423a-b509-d883b70903ce</td><td>2a75e554-72f8-4508-96f8-839509576321</td></tr>",
                            "<tr><td>a7625612-b735-4c20-9928-ec38cbb1a70d</td><td>2a75e554-72f8-4508-96f8-839509576321</td></tr>",
                            "<tr><td>1d31353b-c63d-436a-9327-121ed181eb58</td><td>6f5f5e28-76ef-4bcf-b32d-ce83ad07476d</td></tr>",
                            "<tr><td>0d9083f5-defc-423a-b509-d883b70903ce</td><td>6f5f5e28-76ef-4bcf-b32d-ce83ad07476d</td></tr>",
                            "<tr><td>a7625612-b735-4c20-9928-ec38cbb1a70d</td><td>6f5f5e28-76ef-4bcf-b32d-ce83ad07476d</td></tr>",
                            "<tr><td>57b1c716-c485-445e-bd41-f6fb305aae86</td><td>6f5f5e28-76ef-4bcf-b32d-ce83ad07476d</td></tr>",
                            "</table>"
                        ]
                    }
                }
            ],
            "execution_count": 40
        },
        {
            "cell_type": "code",
            "source": [
                "SELECT * FROM Businesses"
            ],
            "metadata": {
                "azdata_cell_guid": "50c8db1d-659b-4672-93f8-7a272dc37ad1"
            },
            "outputs": [
                {
                    "output_type": "display_data",
                    "data": {
                        "text/html": "(3 rows affected)"
                    },
                    "metadata": {}
                },
                {
                    "output_type": "display_data",
                    "data": {
                        "text/html": "Total execution time: 00:00:00.009"
                    },
                    "metadata": {}
                },
                {
                    "output_type": "execute_result",
                    "metadata": {},
                    "execution_count": 41,
                    "data": {
                        "application/vnd.dataresource+json": {
                            "schema": {
                                "fields": [
                                    {
                                        "name": "BusinessId"
                                    },
                                    {
                                        "name": "Name"
                                    },
                                    {
                                        "name": "Type"
                                    },
                                    {
                                        "name": "Email"
                                    },
                                    {
                                        "name": "LocationId"
                                    }
                                ]
                            },
                            "data": [
                                {
                                    "0": "e75faac4-0546-4fa2-a33c-4f40bb6e70a5",
                                    "1": "'t Kanon",
                                    "2": "Cafe",
                                    "3": "NULL",
                                    "4": "54cfc310-ceef-43ae-836e-face3f4b7d1b"
                                },
                                {
                                    "0": "2a75e554-72f8-4508-96f8-839509576321",
                                    "1": "'t Burgs Beertje",
                                    "2": "Restaurant",
                                    "3": "NULL",
                                    "4": "6ea94f22-5b8e-4c75-a4f9-1bcafa3d6936"
                                },
                                {
                                    "0": "6f5f5e28-76ef-4bcf-b32d-ce83ad07476d",
                                    "1": "Barbier",
                                    "2": "Cafe",
                                    "3": "NULL",
                                    "4": "b0449729-ff9d-4451-8f06-b77a837c4190"
                                }
                            ]
                        },
                        "text/html": [
                            "<table>",
                            "<tr><th>BusinessId</th><th>Name</th><th>Type</th><th>Email</th><th>LocationId</th></tr>",
                            "<tr><td>e75faac4-0546-4fa2-a33c-4f40bb6e70a5</td><td>'t Kanon</td><td>Cafe</td><td>NULL</td><td>54cfc310-ceef-43ae-836e-face3f4b7d1b</td></tr>",
                            "<tr><td>2a75e554-72f8-4508-96f8-839509576321</td><td>'t Burgs Beertje</td><td>Restaurant</td><td>NULL</td><td>6ea94f22-5b8e-4c75-a4f9-1bcafa3d6936</td></tr>",
                            "<tr><td>6f5f5e28-76ef-4bcf-b32d-ce83ad07476d</td><td>Barbier</td><td>Cafe</td><td>NULL</td><td>b0449729-ff9d-4451-8f06-b77a837c4190</td></tr>",
                            "</table>"
                        ]
                    }
                }
            ],
            "execution_count": 41
        },
        {
            "cell_type": "code",
            "source": [
                "SELECT * FROM Beers"
            ],
            "metadata": {
                "azdata_cell_guid": "b6fcb586-25ab-4f65-ae64-992fef28c14c"
            },
            "outputs": [
                {
                    "output_type": "display_data",
                    "data": {
                        "text/html": "(4 rows affected)"
                    },
                    "metadata": {}
                },
                {
                    "output_type": "display_data",
                    "data": {
                        "text/html": "Total execution time: 00:00:00.009"
                    },
                    "metadata": {}
                },
                {
                    "output_type": "execute_result",
                    "metadata": {},
                    "execution_count": 42,
                    "data": {
                        "application/vnd.dataresource+json": {
                            "schema": {
                                "fields": [
                                    {
                                        "name": "BeerId"
                                    },
                                    {
                                        "name": "Name"
                                    },
                                    {
                                        "name": "AlchoholPercentage"
                                    },
                                    {
                                        "name": "Brewer"
                                    }
                                ]
                            },
                            "data": [
                                {
                                    "0": "1d31353b-c63d-436a-9327-121ed181eb58",
                                    "1": "La Chouffe",
                                    "2": "8",
                                    "3": "AChouffe"
                                },
                                {
                                    "0": "0d9083f5-defc-423a-b509-d883b70903ce",
                                    "1": "Omer",
                                    "2": "8",
                                    "3": "Omer Vander Ghinste"
                                },
                                {
                                    "0": "a7625612-b735-4c20-9928-ec38cbb1a70d",
                                    "1": "Duvel",
                                    "2": "9,5",
                                    "3": "Duvel Moortgat"
                                },
                                {
                                    "0": "57b1c716-c485-445e-bd41-f6fb305aae86",
                                    "1": "Jupiler",
                                    "2": "3,3",
                                    "3": "Piedbœuf"
                                }
                            ]
                        },
                        "text/html": [
                            "<table>",
                            "<tr><th>BeerId</th><th>Name</th><th>AlchoholPercentage</th><th>Brewer</th></tr>",
                            "<tr><td>1d31353b-c63d-436a-9327-121ed181eb58</td><td>La Chouffe</td><td>8</td><td>AChouffe</td></tr>",
                            "<tr><td>0d9083f5-defc-423a-b509-d883b70903ce</td><td>Omer</td><td>8</td><td>Omer Vander Ghinste</td></tr>",
                            "<tr><td>a7625612-b735-4c20-9928-ec38cbb1a70d</td><td>Duvel</td><td>9,5</td><td>Duvel Moortgat</td></tr>",
                            "<tr><td>57b1c716-c485-445e-bd41-f6fb305aae86</td><td>Jupiler</td><td>3,3</td><td>Piedbœuf</td></tr>",
                            "</table>"
                        ]
                    }
                }
            ],
            "execution_count": 42
        },
        {
            "cell_type": "code",
            "source": [
                "select * FROM Locations"
            ],
            "metadata": {
                "azdata_cell_guid": "bdb49e0c-8300-4c53-a339-66c4c5164eb4"
            },
            "outputs": [
                {
                    "output_type": "display_data",
                    "data": {
                        "text/html": "(3 rows affected)"
                    },
                    "metadata": {}
                },
                {
                    "output_type": "display_data",
                    "data": {
                        "text/html": "Total execution time: 00:00:00.009"
                    },
                    "metadata": {}
                },
                {
                    "output_type": "execute_result",
                    "metadata": {},
                    "execution_count": 43,
                    "data": {
                        "application/vnd.dataresource+json": {
                            "schema": {
                                "fields": [
                                    {
                                        "name": "LocationId"
                                    },
                                    {
                                        "name": "City"
                                    },
                                    {
                                        "name": "Postcode"
                                    },
                                    {
                                        "name": "Street"
                                    },
                                    {
                                        "name": "HouseNumber"
                                    }
                                ]
                            },
                            "data": [
                                {
                                    "0": "6ea94f22-5b8e-4c75-a4f9-1bcafa3d6936",
                                    "1": "Brugge",
                                    "2": "8000",
                                    "3": "NULL",
                                    "4": "0"
                                },
                                {
                                    "0": "b0449729-ff9d-4451-8f06-b77a837c4190",
                                    "1": "Antwerpen",
                                    "2": "2000",
                                    "3": "NULL",
                                    "4": "0"
                                },
                                {
                                    "0": "54cfc310-ceef-43ae-836e-face3f4b7d1b",
                                    "1": "Kortijk",
                                    "2": "8500",
                                    "3": "NULL",
                                    "4": "0"
                                }
                            ]
                        },
                        "text/html": [
                            "<table>",
                            "<tr><th>LocationId</th><th>City</th><th>Postcode</th><th>Street</th><th>HouseNumber</th></tr>",
                            "<tr><td>6ea94f22-5b8e-4c75-a4f9-1bcafa3d6936</td><td>Brugge</td><td>8000</td><td>NULL</td><td>0</td></tr>",
                            "<tr><td>b0449729-ff9d-4451-8f06-b77a837c4190</td><td>Antwerpen</td><td>2000</td><td>NULL</td><td>0</td></tr>",
                            "<tr><td>54cfc310-ceef-43ae-836e-face3f4b7d1b</td><td>Kortijk</td><td>8500</td><td>NULL</td><td>0</td></tr>",
                            "</table>"
                        ]
                    }
                }
            ],
            "execution_count": 43
        },
        {
            "cell_type": "code",
            "source": [
                "SELECT Businesses.Name, Beers.Name\n",
                "  FROM Businesses\n",
                "LEFT OUTER JOIN BusinessBeer\n",
                "  ON Businesses.BusinessId = BusinessBeer.BusinessId\n",
                "LEFT OUTER JOIN Beers\n",
                "  ON BusinessBeer.BeerId = Beers.BeerId"
            ],
            "metadata": {
                "azdata_cell_guid": "036f7d6d-2cf5-4c3d-a048-7d385f740dec"
            },
            "outputs": [
{
    "output_type": "display_data",
    "data": {
        "text/html": "(9 rows affected)"
    },
    "metadata": {}
}, {
    "output_type": "display_data",
    "data": {
        "text/html": "Total execution time: 00:00:00.025"
    },
    "metadata": {}
}, {
    "output_type": "execute_result",
    "metadata": {},
    "execution_count": 47,
    "data": {
        "application/vnd.dataresource+json": {
            "schema": {
                "fields": [
                    {
                        "name": "Name"
                    },
                    {
                        "name": "Name"
                    }
                ]
            },
            "data": [
                {
                    "0": "'t Kanon",
                    "1": "La Chouffe"
                },
                {
                    "0": "'t Kanon",
                    "1": "Omer"
                },
                {
                    "0": "'t Burgs Beertje",
                    "1": "La Chouffe"
                },
                {
                    "0": "'t Burgs Beertje",
                    "1": "Omer"
                },
                {
                    "0": "'t Burgs Beertje",
                    "1": "Duvel"
                },
                {
                    "0": "Barbier",
                    "1": "La Chouffe"
                },
                {
                    "0": "Barbier",
                    "1": "Omer"
                },
                {
                    "0": "Barbier",
                    "1": "Duvel"
                },
                {
                    "0": "Barbier",
                    "1": "Jupiler"
                }
            ]
        },
        "text/html": [
            "<table>",
            "<tr><th>Name</th><th>Name</th></tr>",
            "<tr><td>'t Kanon</td><td>La Chouffe</td></tr>",
            "<tr><td>'t Kanon</td><td>Omer</td></tr>",
            "<tr><td>'t Burgs Beertje</td><td>La Chouffe</td></tr>",
            "<tr><td>'t Burgs Beertje</td><td>Omer</td></tr>",
            "<tr><td>'t Burgs Beertje</td><td>Duvel</td></tr>",
            "<tr><td>Barbier</td><td>La Chouffe</td></tr>",
            "<tr><td>Barbier</td><td>Omer</td></tr>",
            "<tr><td>Barbier</td><td>Duvel</td></tr>",
            "<tr><td>Barbier</td><td>Jupiler</td></tr>",
            "</table>"
        ]
    }
}
],
            "execution_count": null
        }
    ]
}