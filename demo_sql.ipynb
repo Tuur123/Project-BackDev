{
    "metadata": {
        "kernelspec": {
            "name": "SQL",
            "display_name": "SQL",
            "language": "sql"
        },
        "language_info": {
            "name": "sql",
            "version": ""
        }
    },
    "nbformat_minor": 2,
    "nbformat": 4,
    "cells": [
        {
            "cell_type": "code",
            "source": [
                "USE Beers"
            ],
            "metadata": {
                "azdata_cell_guid": "96230dfb-394d-4dad-a63f-da4f959596f4"
            },
            "outputs": [
                {
                    "output_type": "display_data",
                    "data": {
                        "text/html": "Commands completed successfully."
                    },
                    "metadata": {}
                },
                {
                    "output_type": "display_data",
                    "data": {
                        "text/html": "Total execution time: 00:00:00.002"
                    },
                    "metadata": {}
                }
            ],
            "execution_count": 21
        },
        {
            "cell_type": "code",
            "source": [
                "USE master;\r\n",
                "DROP DATABASE Beers"
            ],
            "metadata": {
                "azdata_cell_guid": "886da656-3aef-4c1b-883f-e37430c60d28",
                "tags": [
                    "hide_input"
                ]
            },
            "outputs": [
                {
                    "output_type": "display_data",
                    "data": {
                        "text/html": "Commands completed successfully."
                    },
                    "metadata": {}
                },
                {
                    "output_type": "display_data",
                    "data": {
                        "text/html": "Total execution time: 00:00:00.225"
                    },
                    "metadata": {}
                }
            ],
            "execution_count": 22
        },
        {
            "cell_type": "code",
            "source": [
                "SELECT * FROM Businesses"
            ],
            "metadata": {
                "azdata_cell_guid": "50c8db1d-659b-4672-93f8-7a272dc37ad1"
            },
            "outputs": [
                {
                    "output_type": "display_data",
                    "data": {
                        "text/html": "(3 rows affected)"
                    },
                    "metadata": {}
                },
                {
                    "output_type": "display_data",
                    "data": {
                        "text/html": "Total execution time: 00:00:00.010"
                    },
                    "metadata": {}
                },
                {
                    "output_type": "execute_result",
                    "metadata": {},
                    "execution_count": 15,
                    "data": {
                        "application/vnd.dataresource+json": {
                            "schema": {
                                "fields": [
                                    {
                                        "name": "BusinessId"
                                    },
                                    {
                                        "name": "Name"
                                    },
                                    {
                                        "name": "Type"
                                    },
                                    {
                                        "name": "Email"
                                    },
                                    {
                                        "name": "LocationId"
                                    }
                                ]
                            },
                            "data": [
                                {
                                    "0": "d541406a-2c4a-445b-bdb0-0c03ec1012bf",
                                    "1": "'t Burgs Beertje",
                                    "2": "Restaurant",
                                    "3": "NULL",
                                    "4": "49b84798-af96-410f-88d7-85a094bb67e5"
                                },
                                {
                                    "0": "718d54a0-c0e6-483c-a0d5-c59fd81c4c5a",
                                    "1": "Barbier",
                                    "2": "Cafe",
                                    "3": "NULL",
                                    "4": "543bc4fe-e403-484a-a599-f57bcae27a04"
                                },
                                {
                                    "0": "e4372e76-8bb1-41b3-857c-fb239c5a18d5",
                                    "1": "'t Kanon",
                                    "2": "Cafe",
                                    "3": "NULL",
                                    "4": "473026c5-55f9-4ac8-acad-f6ada64b5ca6"
                                }
                            ]
                        },
                        "text/html": [
                            "<table>",
                            "<tr><th>BusinessId</th><th>Name</th><th>Type</th><th>Email</th><th>LocationId</th></tr>",
                            "<tr><td>d541406a-2c4a-445b-bdb0-0c03ec1012bf</td><td>'t Burgs Beertje</td><td>Restaurant</td><td>NULL</td><td>49b84798-af96-410f-88d7-85a094bb67e5</td></tr>",
                            "<tr><td>718d54a0-c0e6-483c-a0d5-c59fd81c4c5a</td><td>Barbier</td><td>Cafe</td><td>NULL</td><td>543bc4fe-e403-484a-a599-f57bcae27a04</td></tr>",
                            "<tr><td>e4372e76-8bb1-41b3-857c-fb239c5a18d5</td><td>'t Kanon</td><td>Cafe</td><td>NULL</td><td>473026c5-55f9-4ac8-acad-f6ada64b5ca6</td></tr>",
                            "</table>"
                        ]
                    }
                }
            ],
            "execution_count": 15
        },
        {
            "cell_type": "code",
            "source": [
                "SELECT * FROM Beers"
            ],
            "metadata": {
                "azdata_cell_guid": "b6fcb586-25ab-4f65-ae64-992fef28c14c"
            },
            "outputs": [
                {
                    "output_type": "display_data",
                    "data": {
                        "text/html": "(4 rows affected)"
                    },
                    "metadata": {}
                },
                {
                    "output_type": "display_data",
                    "data": {
                        "text/html": "Total execution time: 00:00:00.006"
                    },
                    "metadata": {}
                },
                {
                    "output_type": "execute_result",
                    "metadata": {},
                    "execution_count": 20,
                    "data": {
                        "application/vnd.dataresource+json": {
                            "schema": {
                                "fields": [
                                    {
                                        "name": "BeerId"
                                    },
                                    {
                                        "name": "Name"
                                    },
                                    {
                                        "name": "AlchoholPercentage"
                                    },
                                    {
                                        "name": "Brewer"
                                    }
                                ]
                            },
                            "data": [
                                {
                                    "0": "cc02aabe-ca36-41c2-a419-0c71d427b7b3",
                                    "1": "Duvel",
                                    "2": "9,5",
                                    "3": "Duvel Moortgat"
                                },
                                {
                                    "0": "9be5c824-4acd-47d0-a2e2-2721d044793b",
                                    "1": "Jupiler",
                                    "2": "3,3",
                                    "3": "Piedbœuf"
                                },
                                {
                                    "0": "4e528702-490c-4ed7-8fd4-2c00373bc42c",
                                    "1": "La Chouffe",
                                    "2": "8",
                                    "3": "AChouffe"
                                },
                                {
                                    "0": "7454de0e-2798-4264-b393-71cec62b5de2",
                                    "1": "Omer",
                                    "2": "8",
                                    "3": "Omer Vander Ghinste"
                                }
                            ]
                        },
                        "text/html": [
                            "<table>",
                            "<tr><th>BeerId</th><th>Name</th><th>AlchoholPercentage</th><th>Brewer</th></tr>",
                            "<tr><td>cc02aabe-ca36-41c2-a419-0c71d427b7b3</td><td>Duvel</td><td>9,5</td><td>Duvel Moortgat</td></tr>",
                            "<tr><td>9be5c824-4acd-47d0-a2e2-2721d044793b</td><td>Jupiler</td><td>3,3</td><td>Piedbœuf</td></tr>",
                            "<tr><td>4e528702-490c-4ed7-8fd4-2c00373bc42c</td><td>La Chouffe</td><td>8</td><td>AChouffe</td></tr>",
                            "<tr><td>7454de0e-2798-4264-b393-71cec62b5de2</td><td>Omer</td><td>8</td><td>Omer Vander Ghinste</td></tr>",
                            "</table>"
                        ]
                    }
                }
            ],
            "execution_count": 20
        },
        {
            "cell_type": "code",
            "source": [
                "select * FROM Locations"
            ],
            "metadata": {
                "azdata_cell_guid": "bdb49e0c-8300-4c53-a339-66c4c5164eb4"
            },
            "outputs": [
                {
                    "output_type": "display_data",
                    "data": {
                        "text/html": "(3 rows affected)"
                    },
                    "metadata": {}
                },
                {
                    "output_type": "display_data",
                    "data": {
                        "text/html": "Total execution time: 00:00:00.010"
                    },
                    "metadata": {}
                },
                {
                    "output_type": "execute_result",
                    "metadata": {},
                    "execution_count": 17,
                    "data": {
                        "application/vnd.dataresource+json": {
                            "schema": {
                                "fields": [
                                    {
                                        "name": "LocationId"
                                    },
                                    {
                                        "name": "City"
                                    },
                                    {
                                        "name": "Postcode"
                                    },
                                    {
                                        "name": "Street"
                                    },
                                    {
                                        "name": "HouseNumber"
                                    }
                                ]
                            },
                            "data": [
                                {
                                    "0": "49b84798-af96-410f-88d7-85a094bb67e5",
                                    "1": "Brugge",
                                    "2": "8000",
                                    "3": "NULL",
                                    "4": "0"
                                },
                                {
                                    "0": "543bc4fe-e403-484a-a599-f57bcae27a04",
                                    "1": "Antwerpen",
                                    "2": "2000",
                                    "3": "NULL",
                                    "4": "0"
                                },
                                {
                                    "0": "473026c5-55f9-4ac8-acad-f6ada64b5ca6",
                                    "1": "Kortijk",
                                    "2": "8500",
                                    "3": "NULL",
                                    "4": "0"
                                }
                            ]
                        },
                        "text/html": [
                            "<table>",
                            "<tr><th>LocationId</th><th>City</th><th>Postcode</th><th>Street</th><th>HouseNumber</th></tr>",
                            "<tr><td>49b84798-af96-410f-88d7-85a094bb67e5</td><td>Brugge</td><td>8000</td><td>NULL</td><td>0</td></tr>",
                            "<tr><td>543bc4fe-e403-484a-a599-f57bcae27a04</td><td>Antwerpen</td><td>2000</td><td>NULL</td><td>0</td></tr>",
                            "<tr><td>473026c5-55f9-4ac8-acad-f6ada64b5ca6</td><td>Kortijk</td><td>8500</td><td>NULL</td><td>0</td></tr>",
                            "</table>"
                        ]
                    }
                }
            ],
            "execution_count": 17
        },
        {
            "cell_type": "code",
            "source": [
                "SELECT Businesses.Name, Beers.Name\n",
                "    FROM Businesses\n",
                "JOIN BusinessBeer\n",
                "    ON Businesses.BusinessId = BusinessBeer.BusinessId\n",
                "JOIN Beers\n",
                "    ON BusinessBeer.BeerId = Beers.BeerId"
            ],
            "metadata": {
                "azdata_cell_guid": "036f7d6d-2cf5-4c3d-a048-7d385f740dec",
                "tags": []
            },
            "outputs": [
                {
                    "output_type": "display_data",
                    "data": {
                        "text/html": "(9 rows affected)"
                    },
                    "metadata": {}
                },
                {
                    "output_type": "display_data",
                    "data": {
                        "text/html": "Total execution time: 00:00:00.024"
                    },
                    "metadata": {}
                },
                {
                    "output_type": "execute_result",
                    "metadata": {},
                    "execution_count": 18,
                    "data": {
                        "application/vnd.dataresource+json": {
                            "schema": {
                                "fields": [
                                    {
                                        "name": "Name"
                                    },
                                    {
                                        "name": "Name"
                                    }
                                ]
                            },
                            "data": [
                                {
                                    "0": "'t Burgs Beertje",
                                    "1": "Duvel"
                                },
                                {
                                    "0": "'t Burgs Beertje",
                                    "1": "La Chouffe"
                                },
                                {
                                    "0": "'t Burgs Beertje",
                                    "1": "Omer"
                                },
                                {
                                    "0": "Barbier",
                                    "1": "Duvel"
                                },
                                {
                                    "0": "Barbier",
                                    "1": "Jupiler"
                                },
                                {
                                    "0": "Barbier",
                                    "1": "La Chouffe"
                                },
                                {
                                    "0": "Barbier",
                                    "1": "Omer"
                                },
                                {
                                    "0": "'t Kanon",
                                    "1": "La Chouffe"
                                },
                                {
                                    "0": "'t Kanon",
                                    "1": "Omer"
                                }
                            ]
                        },
                        "text/html": [
                            "<table>",
                            "<tr><th>Name</th><th>Name</th></tr>",
                            "<tr><td>'t Burgs Beertje</td><td>Duvel</td></tr>",
                            "<tr><td>'t Burgs Beertje</td><td>La Chouffe</td></tr>",
                            "<tr><td>'t Burgs Beertje</td><td>Omer</td></tr>",
                            "<tr><td>Barbier</td><td>Duvel</td></tr>",
                            "<tr><td>Barbier</td><td>Jupiler</td></tr>",
                            "<tr><td>Barbier</td><td>La Chouffe</td></tr>",
                            "<tr><td>Barbier</td><td>Omer</td></tr>",
                            "<tr><td>'t Kanon</td><td>La Chouffe</td></tr>",
                            "<tr><td>'t Kanon</td><td>Omer</td></tr>",
                            "</table>"
                        ]
                    }
                }
            ],
            "execution_count": 18
        },
        {
            "cell_type": "code",
            "source": [
                "SELECT Businesses.Name, Locations.City\r\n",
                "    FROM Businesses\r\n",
                "JOIN Locations\r\n",
                "    ON Businesses.LocationId = Locations.LocationId"
            ],
            "metadata": {
                "azdata_cell_guid": "6aed6c4a-56a2-4c11-9335-15f442ca6385"
            },
            "outputs": [
                {
                    "output_type": "display_data",
                    "data": {
                        "text/html": "(3 rows affected)"
                    },
                    "metadata": {}
                },
                {
                    "output_type": "display_data",
                    "data": {
                        "text/html": "Total execution time: 00:00:00.049"
                    },
                    "metadata": {}
                },
                {
                    "output_type": "execute_result",
                    "metadata": {},
                    "execution_count": 19,
                    "data": {
                        "application/vnd.dataresource+json": {
                            "schema": {
                                "fields": [
                                    {
                                        "name": "Name"
                                    },
                                    {
                                        "name": "City"
                                    }
                                ]
                            },
                            "data": [
                                {
                                    "0": "'t Burgs Beertje",
                                    "1": "Brugge"
                                },
                                {
                                    "0": "Barbier",
                                    "1": "Antwerpen"
                                },
                                {
                                    "0": "'t Kanon",
                                    "1": "Kortijk"
                                }
                            ]
                        },
                        "text/html": [
                            "<table>",
                            "<tr><th>Name</th><th>City</th></tr>",
                            "<tr><td>'t Burgs Beertje</td><td>Brugge</td></tr>",
                            "<tr><td>Barbier</td><td>Antwerpen</td></tr>",
                            "<tr><td>'t Kanon</td><td>Kortijk</td></tr>",
                            "</table>"
                        ]
                    }
                }
            ],
            "execution_count": 19
        }
    ]
}